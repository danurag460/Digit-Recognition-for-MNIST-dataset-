{
 "cells": [
  {
   "cell_type": "code",
   "execution_count": 1,
   "id": "ff150a29",
   "metadata": {
    "_cell_guid": "b1076dfc-b9ad-4769-8c92-a6c4dae69d19",
    "_uuid": "8f2839f25d086af736a60e9eeb907d3b93b6e0e5",
    "execution": {
     "iopub.execute_input": "2021-08-06T17:28:19.955130Z",
     "iopub.status.busy": "2021-08-06T17:28:19.949898Z",
     "iopub.status.idle": "2021-08-06T17:28:19.964705Z",
     "shell.execute_reply": "2021-08-06T17:28:19.965304Z",
     "shell.execute_reply.started": "2021-08-06T16:40:26.208357Z"
    },
    "papermill": {
     "duration": 0.055881,
     "end_time": "2021-08-06T17:28:19.965687",
     "exception": false,
     "start_time": "2021-08-06T17:28:19.909806",
     "status": "completed"
    },
    "tags": []
   },
   "outputs": [
    {
     "name": "stdout",
     "output_type": "stream",
     "text": [
      "/kaggle/input/digit-recognizer/sample_submission.csv\n",
      "/kaggle/input/digit-recognizer/train.csv\n",
      "/kaggle/input/digit-recognizer/test.csv\n"
     ]
    }
   ],
   "source": [
    "# This Python 3 environment comes with many helpful analytics libraries installed\n",
    "# It is defined by the kaggle/python Docker image: https://github.com/kaggle/docker-python\n",
    "# For example, here's several helpful packages to load\n",
    "\n",
    "import numpy as np # linear algebra\n",
    "import pandas as pd # data processing, CSV file I/O (e.g. pd.read_csv)\n",
    "\n",
    "# Input data files are available in the read-only \"../input/\" directory\n",
    "# For example, running this (by clicking run or pressing Shift+Enter) will list all files under the input directory\n",
    "\n",
    "import os\n",
    "for dirname, _, filenames in os.walk('/kaggle/input'):\n",
    "    for filename in filenames:\n",
    "        print(os.path.join(dirname, filename))\n",
    "\n",
    "# You can write up to 20GB to the current directory (/kaggle/working/) that gets preserved as output when you create a version using \"Save & Run All\" \n",
    "# You can also write temporary files to /kaggle/temp/, but they won't be saved outside of the current session"
   ]
  },
  {
   "cell_type": "code",
   "execution_count": 2,
   "id": "49f58805",
   "metadata": {
    "execution": {
     "iopub.execute_input": "2021-08-06T17:28:20.024998Z",
     "iopub.status.busy": "2021-08-06T17:28:20.024106Z",
     "iopub.status.idle": "2021-08-06T17:28:27.908765Z",
     "shell.execute_reply": "2021-08-06T17:28:27.907914Z",
     "shell.execute_reply.started": "2021-08-06T17:03:53.060817Z"
    },
    "papermill": {
     "duration": 7.919764,
     "end_time": "2021-08-06T17:28:27.908939",
     "exception": false,
     "start_time": "2021-08-06T17:28:19.989175",
     "status": "completed"
    },
    "tags": []
   },
   "outputs": [],
   "source": [
    "# Importing Essential Libraries\n",
    "import pandas as pd\n",
    "import numpy as np\n",
    "np.random.seed(0)\n",
    "import matplotlib.pyplot as plt\n",
    "import matplotlib.image as mpimg\n",
    "import seaborn as sns\n",
    "%matplotlib inline\n",
    "\n",
    "from sklearn.model_selection import train_test_split\n",
    "from sklearn.metrics import confusion_matrix\n",
    "import itertools\n",
    "\n",
    "from keras.utils.np_utils import to_categorical # convert to one-hot-encoding\n",
    "from keras.models import Sequential\n",
    "from keras.layers import Dense, Dropout, Flatten, Conv2D, MaxPool2D\n",
    "from keras.optimizers import RMSprop\n",
    "from keras.preprocessing.image import ImageDataGenerator\n",
    "from keras.callbacks import ReduceLROnPlateau\n"
   ]
  },
  {
   "cell_type": "code",
   "execution_count": 3,
   "id": "a331fbdd",
   "metadata": {
    "execution": {
     "iopub.execute_input": "2021-08-06T17:28:27.955978Z",
     "iopub.status.busy": "2021-08-06T17:28:27.955123Z",
     "iopub.status.idle": "2021-08-06T17:28:34.846827Z",
     "shell.execute_reply": "2021-08-06T17:28:34.846217Z",
     "shell.execute_reply.started": "2021-08-06T17:09:52.528613Z"
    },
    "papermill": {
     "duration": 6.916935,
     "end_time": "2021-08-06T17:28:34.847002",
     "exception": false,
     "start_time": "2021-08-06T17:28:27.930067",
     "status": "completed"
    },
    "tags": []
   },
   "outputs": [],
   "source": [
    "# LOADING DATA NOW\n",
    "train = pd.read_csv(\"/kaggle/input/digit-recognizer/train.csv\")\n",
    "test = pd.read_csv(\"/kaggle/input/digit-recognizer/test.csv\")"
   ]
  },
  {
   "cell_type": "code",
   "execution_count": 4,
   "id": "344d8cf4",
   "metadata": {
    "execution": {
     "iopub.execute_input": "2021-08-06T17:28:34.897865Z",
     "iopub.status.busy": "2021-08-06T17:28:34.896614Z",
     "iopub.status.idle": "2021-08-06T17:28:35.066368Z",
     "shell.execute_reply": "2021-08-06T17:28:35.066942Z",
     "shell.execute_reply.started": "2021-08-06T17:10:50.914060Z"
    },
    "papermill": {
     "duration": 0.20164,
     "end_time": "2021-08-06T17:28:35.067175",
     "exception": false,
     "start_time": "2021-08-06T17:28:34.865535",
     "status": "completed"
    },
    "tags": []
   },
   "outputs": [],
   "source": [
    "Y_train = train[\"label\"]\n",
    "# Drop 'label' column\n",
    "X_train = train.drop(labels = [\"label\"],axis = 1) "
   ]
  },
  {
   "cell_type": "code",
   "execution_count": 5,
   "id": "63579c19",
   "metadata": {
    "execution": {
     "iopub.execute_input": "2021-08-06T17:28:35.112093Z",
     "iopub.status.busy": "2021-08-06T17:28:35.110725Z",
     "iopub.status.idle": "2021-08-06T17:28:35.352576Z",
     "shell.execute_reply": "2021-08-06T17:28:35.353125Z",
     "shell.execute_reply.started": "2021-08-06T17:11:43.688732Z"
    },
    "papermill": {
     "duration": 0.265984,
     "end_time": "2021-08-06T17:28:35.353322",
     "exception": false,
     "start_time": "2021-08-06T17:28:35.087338",
     "status": "completed"
    },
    "tags": []
   },
   "outputs": [
    {
     "name": "stderr",
     "output_type": "stream",
     "text": [
      "/opt/conda/lib/python3.7/site-packages/seaborn/_decorators.py:43: FutureWarning: Pass the following variable as a keyword arg: x. From version 0.12, the only valid positional argument will be `data`, and passing other arguments without an explicit keyword will result in an error or misinterpretation.\n",
      "  FutureWarning\n"
     ]
    },
    {
     "data": {
      "image/png": "[encoded data removed]",
      "text/plain": [
       "<Figure size 432x288 with 1 Axes>"
      ]
     },
     "metadata": {
      "needs_background": "light"
     },
     "output_type": "display_data"
    }
   ],
   "source": [
    "g = sns.countplot(Y_train)\n",
    "\n"
   ]
  },
  {
   "cell_type": "code",
   "execution_count": 6,
   "id": "aa31397b",
   "metadata": {
    "execution": {
     "iopub.execute_input": "2021-08-06T17:28:35.402881Z",
     "iopub.status.busy": "2021-08-06T17:28:35.402028Z",
     "iopub.status.idle": "2021-08-06T17:28:35.405010Z",
     "shell.execute_reply": "2021-08-06T17:28:35.405503Z",
     "shell.execute_reply.started": "2021-08-06T17:12:08.926533Z"
    },
    "papermill": {
     "duration": 0.030881,
     "end_time": "2021-08-06T17:28:35.405706",
     "exception": false,
     "start_time": "2021-08-06T17:28:35.374825",
     "status": "completed"
    },
    "tags": []
   },
   "outputs": [
    {
     "data": {
      "text/plain": [
       "(42000, 784)"
      ]
     },
     "execution_count": 6,
     "metadata": {},
     "output_type": "execute_result"
    }
   ],
   "source": [
    "X_train.shape"
   ]
  },
  {
   "cell_type": "code",
   "execution_count": 7,
   "id": "a5843d09",
   "metadata": {
    "execution": {
     "iopub.execute_input": "2021-08-06T17:28:35.450453Z",
     "iopub.status.busy": "2021-08-06T17:28:35.449829Z",
     "iopub.status.idle": "2021-08-06T17:28:35.507945Z",
     "shell.execute_reply": "2021-08-06T17:28:35.507362Z",
     "shell.execute_reply.started": "2021-08-06T17:12:44.872591Z"
    },
    "papermill": {
     "duration": 0.080782,
     "end_time": "2021-08-06T17:28:35.508119",
     "exception": false,
     "start_time": "2021-08-06T17:28:35.427337",
     "status": "completed"
    },
    "tags": []
   },
   "outputs": [
    {
     "data": {
      "text/plain": [
       "count       784\n",
       "unique        1\n",
       "top       False\n",
       "freq        784\n",
       "dtype: object"
      ]
     },
     "execution_count": 7,
     "metadata": {},
     "output_type": "execute_result"
    }
   ],
   "source": [
    "# Check for null and missing values\n",
    "X_train.isnull().any().describe()"
   ]
  },
  {
   "cell_type": "code",
   "execution_count": 8,
   "id": "a69343de",
   "metadata": {
    "execution": {
     "iopub.execute_input": "2021-08-06T17:28:35.553931Z",
     "iopub.status.busy": "2021-08-06T17:28:35.553158Z",
     "iopub.status.idle": "2021-08-06T17:28:35.576354Z",
     "shell.execute_reply": "2021-08-06T17:28:35.575676Z",
     "shell.execute_reply.started": "2021-08-06T17:13:14.765371Z"
    },
    "papermill": {
     "duration": 0.048205,
     "end_time": "2021-08-06T17:28:35.576513",
     "exception": false,
     "start_time": "2021-08-06T17:28:35.528308",
     "status": "completed"
    },
    "tags": []
   },
   "outputs": [
    {
     "data": {
      "text/plain": [
       "count       784\n",
       "unique        1\n",
       "top       False\n",
       "freq        784\n",
       "dtype: object"
      ]
     },
     "execution_count": 8,
     "metadata": {},
     "output_type": "execute_result"
    }
   ],
   "source": [
    "test.isnull().any().describe()"
   ]
  },
  {
   "cell_type": "code",
   "execution_count": 9,
   "id": "60d22981",
   "metadata": {
    "execution": {
     "iopub.execute_input": "2021-08-06T17:28:35.628740Z",
     "iopub.status.busy": "2021-08-06T17:28:35.627149Z",
     "iopub.status.idle": "2021-08-06T17:28:35.768893Z",
     "shell.execute_reply": "2021-08-06T17:28:35.767983Z",
     "shell.execute_reply.started": "2021-08-06T17:13:40.085125Z"
    },
    "papermill": {
     "duration": 0.171798,
     "end_time": "2021-08-06T17:28:35.769062",
     "exception": false,
     "start_time": "2021-08-06T17:28:35.597264",
     "status": "completed"
    },
    "tags": []
   },
   "outputs": [],
   "source": [
    "# Normalize the data\n",
    "X_train = X_train / 255.0\n",
    "test = test / 255.0"
   ]
  },
  {
   "cell_type": "code",
   "execution_count": 10,
   "id": "92397988",
   "metadata": {
    "execution": {
     "iopub.execute_input": "2021-08-06T17:28:35.816478Z",
     "iopub.status.busy": "2021-08-06T17:28:35.815391Z",
     "iopub.status.idle": "2021-08-06T17:28:35.817544Z",
     "shell.execute_reply": "2021-08-06T17:28:35.818136Z",
     "shell.execute_reply.started": "2021-08-06T17:14:06.937756Z"
    },
    "papermill": {
     "duration": 0.028878,
     "end_time": "2021-08-06T17:28:35.818329",
     "exception": false,
     "start_time": "2021-08-06T17:28:35.789451",
     "status": "completed"
    },
    "tags": []
   },
   "outputs": [],
   "source": [
    "# Reshape image in 3 dimensions (height = 28px, width = 28px , canal = 1)\n",
    "X_train = X_train.values.reshape(-1,28,28,1)\n",
    "test = test.values.reshape(-1,28,28,1)"
   ]
  },
  {
   "cell_type": "code",
   "execution_count": 11,
   "id": "d2e05eef",
   "metadata": {
    "execution": {
     "iopub.execute_input": "2021-08-06T17:28:35.864751Z",
     "iopub.status.busy": "2021-08-06T17:28:35.863509Z",
     "iopub.status.idle": "2021-08-06T17:28:35.868984Z",
     "shell.execute_reply": "2021-08-06T17:28:35.869483Z",
     "shell.execute_reply.started": "2021-08-06T17:14:36.632183Z"
    },
    "papermill": {
     "duration": 0.030174,
     "end_time": "2021-08-06T17:28:35.869699",
     "exception": false,
     "start_time": "2021-08-06T17:28:35.839525",
     "status": "completed"
    },
    "tags": []
   },
   "outputs": [],
   "source": [
    "# Encode labels to one hot vectors (ex : 2 -> [0,0,1,0,0,0,0,0,0,0])\n",
    "Y_train = to_categorical(Y_train, num_classes = 10)"
   ]
  },
  {
   "cell_type": "code",
   "execution_count": 12,
   "id": "356903b9",
   "metadata": {
    "execution": {
     "iopub.execute_input": "2021-08-06T17:28:35.915126Z",
     "iopub.status.busy": "2021-08-06T17:28:35.914078Z",
     "iopub.status.idle": "2021-08-06T17:28:36.338393Z",
     "shell.execute_reply": "2021-08-06T17:28:36.338904Z",
     "shell.execute_reply.started": "2021-08-06T17:17:03.735301Z"
    },
    "papermill": {
     "duration": 0.448975,
     "end_time": "2021-08-06T17:28:36.339101",
     "exception": false,
     "start_time": "2021-08-06T17:28:35.890126",
     "status": "completed"
    },
    "tags": []
   },
   "outputs": [],
   "source": [
    "# Set the random seed\n",
    "random_seed = 2\n",
    "\n",
    "# Split the train and the validation set for the fitting\n",
    "X_train, X_val, Y_train, Y_val = train_test_split(X_train, Y_train, test_size = 0.1, random_state=random_seed)"
   ]
  },
  {
   "cell_type": "code",
   "execution_count": 13,
   "id": "07ac7211",
   "metadata": {
    "execution": {
     "iopub.execute_input": "2021-08-06T17:28:36.383781Z",
     "iopub.status.busy": "2021-08-06T17:28:36.382742Z",
     "iopub.status.idle": "2021-08-06T17:28:36.773371Z",
     "shell.execute_reply": "2021-08-06T17:28:36.772822Z",
     "shell.execute_reply.started": "2021-08-06T17:17:07.210807Z"
    },
    "papermill": {
     "duration": 0.414212,
     "end_time": "2021-08-06T17:28:36.773516",
     "exception": false,
     "start_time": "2021-08-06T17:28:36.359304",
     "status": "completed"
    },
    "tags": []
   },
   "outputs": [],
   "source": [
    "# Define the model\n",
    "# We will use CNN \n",
    "\n",
    "model = Sequential()\n",
    "\n",
    "model.add(Conv2D(filters = 32, kernel_size = (5,5),padding = 'Same', \n",
    "                 activation ='relu', input_shape = (28,28,1)))\n",
    "model.add(Conv2D(filters = 32, kernel_size = (5,5),padding = 'Same', \n",
    "                 activation ='relu'))\n",
    "model.add(MaxPool2D(pool_size=(2,2)))\n",
    "model.add(Dropout(0.25))\n",
    "\n",
    "\n",
    "model.add(Conv2D(filters = 64, kernel_size = (3,3),padding = 'Same', \n",
    "                 activation ='relu'))\n",
    "model.add(Conv2D(filters = 64, kernel_size = (3,3),padding = 'Same', \n",
    "                 activation ='relu'))\n",
    "model.add(MaxPool2D(pool_size=(2,2), strides=(2,2)))\n",
    "model.add(Dropout(0.25))\n",
    "\n",
    "\n",
    "model.add(Flatten())\n",
    "model.add(Dense(256, activation = \"relu\"))\n",
    "model.add(Dropout(0.5))\n",
    "model.add(Dense(10, activation = \"softmax\"))"
   ]
  },
  {
   "cell_type": "code",
   "execution_count": 14,
   "id": "21507e2d",
   "metadata": {
    "execution": {
     "iopub.execute_input": "2021-08-06T17:28:36.825125Z",
     "iopub.status.busy": "2021-08-06T17:28:36.824440Z",
     "iopub.status.idle": "2021-08-06T17:28:36.826514Z",
     "shell.execute_reply": "2021-08-06T17:28:36.827101Z",
     "shell.execute_reply.started": "2021-08-06T17:17:40.949627Z"
    },
    "papermill": {
     "duration": 0.03139,
     "end_time": "2021-08-06T17:28:36.827278",
     "exception": false,
     "start_time": "2021-08-06T17:28:36.795888",
     "status": "completed"
    },
    "tags": []
   },
   "outputs": [],
   "source": [
    "# Define the optimizer\n",
    "optimizer = RMSprop(lr=0.001, rho=0.9, epsilon=1e-08, decay=0.0)"
   ]
  },
  {
   "cell_type": "code",
   "execution_count": 15,
   "id": "96862cc3",
   "metadata": {
    "execution": {
     "iopub.execute_input": "2021-08-06T17:28:36.872934Z",
     "iopub.status.busy": "2021-08-06T17:28:36.872228Z",
     "iopub.status.idle": "2021-08-06T17:28:36.890528Z",
     "shell.execute_reply": "2021-08-06T17:28:36.889723Z",
     "shell.execute_reply.started": "2021-08-06T17:17:55.786083Z"
    },
    "papermill": {
     "duration": 0.041964,
     "end_time": "2021-08-06T17:28:36.890722",
     "exception": false,
     "start_time": "2021-08-06T17:28:36.848758",
     "status": "completed"
    },
    "tags": []
   },
   "outputs": [],
   "source": [
    "# Compile the model\n",
    "model.compile(optimizer = optimizer , loss = \"categorical_crossentropy\", metrics=[\"accuracy\"])"
   ]
  },
  {
   "cell_type": "code",
   "execution_count": 16,
   "id": "02f4d420",
   "metadata": {
    "execution": {
     "iopub.execute_input": "2021-08-06T17:28:36.940695Z",
     "iopub.status.busy": "2021-08-06T17:28:36.939872Z",
     "iopub.status.idle": "2021-08-06T17:28:36.943196Z",
     "shell.execute_reply": "2021-08-06T17:28:36.942690Z",
     "shell.execute_reply.started": "2021-08-06T17:18:09.375249Z"
    },
    "papermill": {
     "duration": 0.031669,
     "end_time": "2021-08-06T17:28:36.943370",
     "exception": false,
     "start_time": "2021-08-06T17:28:36.911701",
     "status": "completed"
    },
    "tags": []
   },
   "outputs": [],
   "source": [
    "# Set a learning rate annealer\n",
    "learning_rate_reduction = ReduceLROnPlateau(monitor='val_acc', \n",
    "                                            patience=3, \n",
    "                                            verbose=1, \n",
    "                                            factor=0.5, \n",
    "                                            min_lr=0.00001)"
   ]
  },
  {
   "cell_type": "code",
   "execution_count": 17,
   "id": "14dfea25",
   "metadata": {
    "execution": {
     "iopub.execute_input": "2021-08-06T17:28:36.993567Z",
     "iopub.status.busy": "2021-08-06T17:28:36.992905Z",
     "iopub.status.idle": "2021-08-06T17:28:36.994797Z",
     "shell.execute_reply": "2021-08-06T17:28:36.995406Z",
     "shell.execute_reply.started": "2021-08-06T17:18:31.109091Z"
    },
    "papermill": {
     "duration": 0.029776,
     "end_time": "2021-08-06T17:28:36.995591",
     "exception": false,
     "start_time": "2021-08-06T17:28:36.965815",
     "status": "completed"
    },
    "tags": []
   },
   "outputs": [],
   "source": [
    "epochs = 3 \n",
    "batch_size = 86"
   ]
  },
  {
   "cell_type": "code",
   "execution_count": 18,
   "id": "c016ad74",
   "metadata": {
    "execution": {
     "iopub.execute_input": "2021-08-06T17:28:37.043018Z",
     "iopub.status.busy": "2021-08-06T17:28:37.042295Z",
     "iopub.status.idle": "2021-08-06T17:28:37.208407Z",
     "shell.execute_reply": "2021-08-06T17:28:37.209026Z",
     "shell.execute_reply.started": "2021-08-06T17:18:57.047084Z"
    },
    "papermill": {
     "duration": 0.192098,
     "end_time": "2021-08-06T17:28:37.209254",
     "exception": false,
     "start_time": "2021-08-06T17:28:37.017156",
     "status": "completed"
    },
    "tags": []
   },
   "outputs": [],
   "source": [
    "# With data augmentation to prevent overfitting (accuracy 0.99286)\n",
    "\n",
    "datagen = ImageDataGenerator(\n",
    "        featurewise_center=False,  # set input mean to 0 over the dataset\n",
    "        samplewise_center=False,  # set each sample mean to 0\n",
    "        featurewise_std_normalization=False,  # divide inputs by std of the dataset\n",
    "        samplewise_std_normalization=False,  # divide each input by its std\n",
    "        zca_whitening=False,  # apply ZCA whitening\n",
    "        rotation_range=10,  # randomly rotate images in the range (degrees, 0 to 180)\n",
    "        zoom_range = 0.1, # Randomly zoom image \n",
    "        width_shift_range=0.1,  # randomly shift images horizontally (fraction of total width)\n",
    "        height_shift_range=0.1,  # randomly shift images vertically (fraction of total height)\n",
    "        horizontal_flip=False,  # randomly flip images\n",
    "        vertical_flip=False)  # randomly flip images\n",
    "\n",
    "\n",
    "datagen.fit(X_train)"
   ]
  },
  {
   "cell_type": "code",
   "execution_count": 19,
   "id": "28edd190",
   "metadata": {
    "execution": {
     "iopub.execute_input": "2021-08-06T17:28:37.254504Z",
     "iopub.status.busy": "2021-08-06T17:28:37.253856Z",
     "iopub.status.idle": "2021-08-06T17:35:32.654914Z",
     "shell.execute_reply": "2021-08-06T17:35:32.655435Z",
     "shell.execute_reply.started": "2021-08-06T17:19:10.839080Z"
    },
    "papermill": {
     "duration": 415.425127,
     "end_time": "2021-08-06T17:35:32.655650",
     "exception": false,
     "start_time": "2021-08-06T17:28:37.230523",
     "status": "completed"
    },
    "tags": []
   },
   "outputs": [
    {
     "name": "stderr",
     "output_type": "stream",
     "text": [
      "/opt/conda/lib/python3.7/site-packages/tensorflow/python/keras/engine/training.py:1844: UserWarning: `Model.fit_generator` is deprecated and will be removed in a future version. Please use `Model.fit`, which supports generators.\n",
      "  warnings.warn('`Model.fit_generator` is deprecated and '\n"
     ]
    },
    {
     "name": "stdout",
     "output_type": "stream",
     "text": [
      "Epoch 1/3\n",
      "439/439 - 141s - loss: 0.4240 - accuracy: 0.8620 - val_loss: 0.0611 - val_accuracy: 0.9812\n",
      "Epoch 2/3\n",
      "439/439 - 138s - loss: 0.1304 - accuracy: 0.9612 - val_loss: 0.0695 - val_accuracy: 0.9810\n",
      "Epoch 3/3\n",
      "439/439 - 136s - loss: 0.0944 - accuracy: 0.9724 - val_loss: 0.0382 - val_accuracy: 0.9890\n"
     ]
    }
   ],
   "source": [
    "# Fit the model\n",
    "history = model.fit_generator(datagen.flow(X_train,Y_train, batch_size=batch_size),\n",
    "                              epochs = epochs, validation_data = (X_val,Y_val),\n",
    "                              verbose = 2, steps_per_epoch=X_train.shape[0] // batch_size\n",
    "                              , callbacks=[learning_rate_reduction])"
   ]
  },
  {
   "cell_type": "code",
   "execution_count": 20,
   "id": "6b209a89",
   "metadata": {
    "execution": {
     "iopub.execute_input": "2021-08-06T17:35:32.704002Z",
     "iopub.status.busy": "2021-08-06T17:35:32.703249Z",
     "iopub.status.idle": "2021-08-06T17:35:52.301308Z",
     "shell.execute_reply": "2021-08-06T17:35:52.300733Z",
     "shell.execute_reply.started": "2021-08-06T17:26:35.300863Z"
    },
    "papermill": {
     "duration": 19.623851,
     "end_time": "2021-08-06T17:35:52.301461",
     "exception": false,
     "start_time": "2021-08-06T17:35:32.677610",
     "status": "completed"
    },
    "tags": []
   },
   "outputs": [],
   "source": [
    "# predict results\n",
    "results = model.predict(test)\n",
    "\n",
    "# select the index with the maximum probability\n",
    "results = np.argmax(results,axis = 1)\n",
    "\n",
    "results = pd.Series(results,name=\"Label\")"
   ]
  },
  {
   "cell_type": "code",
   "execution_count": 21,
   "id": "152155fe",
   "metadata": {
    "execution": {
     "iopub.execute_input": "2021-08-06T17:35:52.354419Z",
     "iopub.status.busy": "2021-08-06T17:35:52.353601Z",
     "iopub.status.idle": "2021-08-06T17:35:52.411018Z",
     "shell.execute_reply": "2021-08-06T17:35:52.410306Z",
     "shell.execute_reply.started": "2021-08-06T17:27:48.982837Z"
    },
    "papermill": {
     "duration": 0.0867,
     "end_time": "2021-08-06T17:35:52.411164",
     "exception": false,
     "start_time": "2021-08-06T17:35:52.324464",
     "status": "completed"
    },
    "tags": []
   },
   "outputs": [],
   "source": [
    "submission = pd.concat([pd.Series(range(1,28001),name = \"ImageId\"),results],axis = 1)\n",
    "\n",
    "submission.to_csv(\"cnn_mnist_datagen.csv\",index=False)"
   ]
  }
 ],
 "metadata": {
  "kernelspec": {
   "display_name": "Python 3",
   "language": "python",
   "name": "python3"
  },
  "language_info": {
   "codemirror_mode": {
    "name": "ipython",
    "version": 3
   },
   "file_extension": ".py",
   "mimetype": "text/x-python",
   "name": "python",
   "nbconvert_exporter": "python",
   "pygments_lexer": "ipython3",
   "version": "3.7.10"
  },
  "papermill": {
   "default_parameters": {},
   "duration": 464.127902,
   "end_time": "2021-08-06T17:35:54.905684",
   "environment_variables": {},
   "exception": null,
   "input_path": "__notebook__.ipynb",
   "output_path": "__notebook__.ipynb",
   "parameters": {},
   "start_time": "2021-08-06T17:28:10.777782",
   "version": "2.3.3"
  }
 },
 "nbformat": 4,
 "nbformat_minor": 5
}
